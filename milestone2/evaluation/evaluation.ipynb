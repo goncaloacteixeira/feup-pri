{
 "cells": [
  {
   "cell_type": "markdown",
   "id": "c19bb68c",
   "metadata": {},
   "source": [
    "# Evaluation and Metrics"
   ]
  },
  {
   "cell_type": "code",
   "execution_count": 1,
   "id": "b2de53a2",
   "metadata": {},
   "outputs": [],
   "source": [
    "import pandas as pd\n",
    "import numpy as np\n",
    "import matplotlib.pyplot as plt\n",
    "from sklearn.metrics import PrecisionRecallDisplay\n",
    "from requests import get"
   ]
  },
  {
   "cell_type": "code",
   "execution_count": 2,
   "id": "e8f4438c",
   "metadata": {},
   "outputs": [],
   "source": [
    "URL = 'http://localhost:8983/solr/movies/select'"
   ]
  },
  {
   "cell_type": "code",
   "execution_count": 3,
   "id": "04dbe16d",
   "metadata": {},
   "outputs": [],
   "source": [
    "# METRICS TABLE\n",
    "# Define custom decorator to automatically calculate metric based on key\n",
    "metrics = {}\n",
    "metric = lambda f: metrics.setdefault(f.__name__, f)\n",
    "\n",
    "@metric\n",
    "def ap(results, relevant):\n",
    "    \"\"\"Average Precision\"\"\"\n",
    "    relevant_index = []\n",
    "    index = 0\n",
    "    for res in results:\n",
    "        if (index != 0 and res['imdb_title_id'] in relevant) or (index == 0 and res['imdb_title_id'][0] in relevant):\n",
    "            relevant_index.append(index)\n",
    "        index = index + 1\n",
    "\n",
    "    if len(relevant_index) == 0:\n",
    "        return 0\n",
    "\n",
    "    precision_values = [\n",
    "        len([\n",
    "            doc\n",
    "            for doc in results[:idx]\n",
    "            if (index != 0 and doc['imdb_title_id'] in relevant) or (index == 0 and doc['imdb_title_id'][0] in relevant)\n",
    "        ]) / idx\n",
    "        for idx in range(1, len(results) + 1)\n",
    "    ]\n",
    "\n",
    "    precision_sum = 0\n",
    "    for ind in relevant_index:\n",
    "        precision_sum = precision_sum + precision_values[ind]\n",
    "\n",
    "    return precision_sum / len(relevant_index)\n",
    "\n",
    "@metric\n",
    "def p10(results, relevant, n=10):\n",
    "    \"\"\"Precision at N\"\"\"\n",
    "    return len([doc for doc in results[:n] if doc['imdb_title_id'] in relevant])/n\n",
    "\n",
    "def calculate_metric(key, results, relevant):\n",
    "    return metrics[key](results, relevant)\n",
    "\n",
    "# Define metrics to be calculated\n",
    "evaluation_metrics = {\n",
    "    'ap': 'Average Precision',\n",
    "    'p10': 'Precision at 10 (P@10)'\n",
    "}\n",
    "\n",
    "def metrics_export_table(results: list, relevant: list):\n",
    "    df = pd.DataFrame([['Metric','Value']] +\n",
    "        [\n",
    "            [evaluation_metrics[m], calculate_metric(m, results, relevant)]\n",
    "            for m in evaluation_metrics\n",
    "        ]\n",
    "    )\n",
    "\n",
    "    return df"
   ]
  },
  {
   "cell_type": "code",
   "execution_count": 4,
   "id": "dd82275f",
   "metadata": {},
   "outputs": [],
   "source": [
    "# PRECISION-RECALL CURVE\n",
    "# Calculate precision and recall values as we move down the ranked list\n",
    "def curve(results: list, relevant: list):\n",
    "    precision_values = [\n",
    "        len([\n",
    "            doc \n",
    "            for doc in results[:idx]\n",
    "            if doc['imdb_title_id'] in relevant\n",
    "        ]) / idx \n",
    "        for idx, _ in enumerate(results, start=1)\n",
    "    ]\n",
    "\n",
    "    recall_values = [\n",
    "        len([\n",
    "            doc for doc in results[:idx]\n",
    "            if doc['imdb_title_id'] in relevant\n",
    "        ]) / len(relevant)\n",
    "        for idx, _ in enumerate(results, start=1)\n",
    "    ]\n",
    "\n",
    "    precision_recall_match = {k: v for k,v in zip(recall_values, precision_values)}\n",
    "\n",
    "    # Extend recall_values to include traditional steps for a better curve (0.1, 0.2 ...)\n",
    "    recall_values.extend([step for step in np.arange(0, 1.1, 0.3) if step not in recall_values])\n",
    "    recall_values = sorted(set(recall_values))\n",
    "\n",
    "    # Extend matching dict to include these new intermediate steps\n",
    "    for idx, step in enumerate(recall_values):\n",
    "        if idx > 0 and step not in precision_recall_match:\n",
    "            if recall_values[idx-1] in precision_recall_match:\n",
    "                precision_recall_match[step] = precision_recall_match[recall_values[idx-1]]\n",
    "            else:\n",
    "                precision_recall_match[step] = precision_recall_match[recall_values[idx+1]]\n",
    "\n",
    "    return PrecisionRecallDisplay([precision_recall_match.get(r) for r in recall_values], recall_values)"
   ]
  },
  {
   "cell_type": "code",
   "execution_count": 5,
   "id": "cc0b7671",
   "metadata": {},
   "outputs": [],
   "source": [
    "def get_results(params: dict):\n",
    "    return get(URL, params=params).json()['response']['docs']"
   ]
  },
  {
   "cell_type": "code",
   "execution_count": 6,
   "id": "1ceff34e",
   "metadata": {},
   "outputs": [],
   "source": [
    "def print_titles(dataset: list):\n",
    "    for title in dataset:\n",
    "        print('%s: %d %s' % (title['imdb_title_id'], title['year'], title['original_title']))"
   ]
  },
  {
   "cell_type": "markdown",
   "id": "8751393a",
   "metadata": {},
   "source": [
    "## Experiment 1 - Matrix Trilogy"
   ]
  },
  {
   "cell_type": "code",
   "execution_count": 7,
   "id": "bfe4c23d",
   "metadata": {},
   "outputs": [],
   "source": [
    "# schema-less\n",
    "relevant = list(map(lambda el: el.strip(), open('matrix_qrels.txt').readlines()))\n",
    "\n",
    "standard_params = {\n",
    "    'q': 'title:matrix original_title:matrix description:(matrix neo) plot:(matrix neo) ',\n",
    "    'wt': 'json',\n",
    "    'defType': 'edismax'\n",
    "}\n",
    "\n",
    "schemaless_results = get_results(params=standard_params)"
   ]
  },
  {
   "cell_type": "code",
   "execution_count": 8,
   "id": "e3d1a1ae",
   "metadata": {},
   "outputs": [],
   "source": [
    "standard_results = get_results(params=standard_params)\n",
    "\n",
    "enhanced_params = {\n",
    "    'q': '(original_title:matrix title:matrix) AND (description:neo plot:neo)',\n",
    "    'wt': 'json',\n",
    "    'qf': 'original_title description^2 plot^3',\n",
    "    'defType': 'edismax'\n",
    "}\n",
    "\n",
    "enhanced_results = get_results(params=enhanced_params)"
   ]
  },
  {
   "cell_type": "code",
   "execution_count": 9,
   "id": "d8db36a8",
   "metadata": {},
   "outputs": [
    {
     "name": "stdout",
     "output_type": "stream",
     "text": [
      "tt0234215: 2003 The Matrix Reloaded\n",
      "tt0242653: 2003 The Matrix Revolutions\n",
      "tt0133093: 1999 The Matrix\n",
      "tt0970173: 2007 Buhera mátrix\n",
      "tt0415955: 2004 Maarek hob\n",
      "tt0292097: 2000 Markova: Comfort Gay\n",
      "tt0102421: 1991 Mayrig\n",
      "tt0074883: 1976 Maîtresse\n",
      "tt0437526: 2007 Une vieille maîtresse\n",
      "tt0084315: 1982 Les maîtres du temps\n"
     ]
    }
   ],
   "source": [
    "print_titles(standard_results)"
   ]
  },
  {
   "cell_type": "code",
   "execution_count": 10,
   "id": "8d0bc093",
   "metadata": {},
   "outputs": [
    {
     "name": "stdout",
     "output_type": "stream",
     "text": [
      "tt0234215: 2003 The Matrix Reloaded\n",
      "tt0242653: 2003 The Matrix Revolutions\n",
      "tt0133093: 1999 The Matrix\n"
     ]
    }
   ],
   "source": [
    "print_titles(enhanced_results)"
   ]
  },
  {
   "cell_type": "code",
   "execution_count": 11,
   "id": "5295e431",
   "metadata": {},
   "outputs": [],
   "source": [
    "schemaless_table = metrics_export_table(results=schemaless_results, relevant=relevant)\n",
    "standard_table = metrics_export_table(results=standard_results, relevant=relevant)\n",
    "enhanced_table = metrics_export_table(results=enhanced_results, relevant=relevant)\n",
    "\n",
    "schemaless_curve = curve(results=schemaless_results, relevant=relevant)\n",
    "standard_curve = curve(results=standard_results, relevant=relevant)\n",
    "enhanced_curve = curve(results=enhanced_results, relevant=relevant)"
   ]
  },
  {
   "cell_type": "code",
   "execution_count": 12,
   "id": "d760e7af",
   "metadata": {},
   "outputs": [
    {
     "name": "stdout",
     "output_type": "stream",
     "text": [
      "                        0      1\n",
      "0                  Metric  Value\n",
      "1       Average Precision    0.0\n",
      "2  Precision at 10 (P@10)    0.0\n",
      "                        0      1\n",
      "0                  Metric  Value\n",
      "1       Average Precision    1.0\n",
      "2  Precision at 10 (P@10)    0.3\n",
      "                        0      1\n",
      "0                  Metric  Value\n",
      "1       Average Precision    1.0\n",
      "2  Precision at 10 (P@10)    0.3\n"
     ]
    }
   ],
   "source": [
    "print(schemaless_table)\n",
    "print(standard_table)\n",
    "print(enhanced_table)"
   ]
  },
  {
   "cell_type": "code",
   "execution_count": 30,
   "id": "11c74878",
   "metadata": {
    "scrolled": false
   },
   "outputs": [
    {
     "data": {
      "image/png": "[encoded data removed]",
      "text/plain": [
       "<Figure size 1080x360 with 3 Axes>"
      ]
     },
     "metadata": {
      "needs_background": "light"
     },
     "output_type": "display_data"
    }
   ],
   "source": [
    "fig, (ax1, ax2, ax3) = plt.subplots(1, 3, sharey=True, figsize=(15,5))\n",
    "\n",
    "ax1.set_title('Schemaless')\n",
    "ax2.set_title('Schema w/out boost')\n",
    "ax3.set_title('Schema w/ boost')\n",
    "fig.suptitle('Matrix Trilogy Query Evaluation')\n",
    "\n",
    "schemaless_curve.plot(ax=ax1)\n",
    "standard_curve.plot(ax=ax2)\n",
    "enhanced_curve.plot(ax=ax3)\n",
    "\n",
    "plt.show()"
   ]
  },
  {
   "cell_type": "code",
   "execution_count": 16,
   "id": "8e68d171",
   "metadata": {
    "scrolled": false
   },
   "outputs": [
    {
     "data": {
      "image/png": "[encoded data removed]",
      "text/plain": [
       "<Figure size 432x288 with 1 Axes>"
      ]
     },
     "metadata": {
      "needs_background": "light"
     },
     "output_type": "display_data"
    },
    {
     "data": {
      "image/png": "[encoded data removed]",
      "text/plain": [
       "<Figure size 432x288 with 1 Axes>"
      ]
     },
     "metadata": {
      "needs_background": "light"
     },
     "output_type": "display_data"
    },
    {
     "data": {
      "image/png": "[encoded data removed]",
      "text/plain": [
       "<Figure size 432x288 with 1 Axes>"
      ]
     },
     "metadata": {
      "needs_background": "light"
     },
     "output_type": "display_data"
    }
   ],
   "source": [
    "schemaless_curve.plot()\n",
    "plt.savefig('plots/exp1_1.png')\n",
    "standard_curve.plot()\n",
    "plt.savefig('plots/exp1_2.png')\n",
    "enhanced_curve.plot()\n",
    "plt.savefig('plots/exp1_3.png')"
   ]
  },
  {
   "cell_type": "code",
   "execution_count": null,
   "id": "3e5ff020",
   "metadata": {},
   "outputs": [],
   "source": []
  }
 ],
 "metadata": {
  "kernelspec": {
   "display_name": "Python 3 (ipykernel)",
   "language": "python",
   "name": "python3"
  },
  "language_info": {
   "codemirror_mode": {
    "name": "ipython",
    "version": 3
   },
   "file_extension": ".py",
   "mimetype": "text/x-python",
   "name": "python",
   "nbconvert_exporter": "python",
   "pygments_lexer": "ipython3",
   "version": "3.8.12"
  }
 },
 "nbformat": 4,
 "nbformat_minor": 5
}
