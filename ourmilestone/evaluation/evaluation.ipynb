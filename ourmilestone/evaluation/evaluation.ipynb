{
 "cells": [
  {
   "cell_type": "markdown",
   "id": "c19bb68c",
   "metadata": {},
   "source": [
    "# Evaluation and Metrics"
   ]
  },
  {
   "cell_type": "code",
   "execution_count": 1,
   "id": "b2de53a2",
   "metadata": {},
   "outputs": [],
   "source": [
    "import pandas as pd\n",
    "import numpy as np\n",
    "import matplotlib.pyplot as plt\n",
    "from sklearn.metrics import PrecisionRecallDisplay\n",
    "from requests import get"
   ]
  },
  {
   "cell_type": "code",
   "execution_count": 2,
   "id": "e8f4438c",
   "metadata": {},
   "outputs": [],
   "source": [
    "URL = 'http://localhost:8983/solr/movies/select'"
   ]
  },
  {
   "cell_type": "code",
   "execution_count": 3,
   "id": "04dbe16d",
   "metadata": {},
   "outputs": [],
   "source": [
    "# METRICS TABLE\n",
    "# Define custom decorator to automatically calculate metric based on key\n",
    "metrics = {}\n",
    "metric = lambda f: metrics.setdefault(f.__name__, f)\n",
    "\n",
    "@metric\n",
    "def ap(results, relevant):\n",
    "    \"\"\"Average Precision\"\"\"\n",
    "    relevant_index = []\n",
    "    index = 0\n",
    "    for res in results:\n",
    "        if (index != 0 and res['imdb_title_id'] in relevant) or (index == 0 and res['imdb_title_id'][0] in relevant):\n",
    "            relevant_index.append(index)\n",
    "        index = index + 1\n",
    "\n",
    "    if len(relevant_index) == 0:\n",
    "        return 0\n",
    "\n",
    "    precision_values = [\n",
    "        len([\n",
    "            doc\n",
    "            for doc in results[:idx]\n",
    "            if (index != 0 and doc['imdb_title_id'] in relevant) or (index == 0 and doc['imdb_title_id'][0] in relevant)\n",
    "        ]) / idx\n",
    "        for idx in range(1, len(results) + 1)\n",
    "    ]\n",
    "\n",
    "    precision_sum = 0\n",
    "    for ind in relevant_index:\n",
    "        precision_sum = precision_sum + precision_values[ind]\n",
    "\n",
    "    return precision_sum / len(relevant_index)\n",
    "\n",
    "@metric\n",
    "def p10(results, relevant, n=10):\n",
    "    \"\"\"Precision at N\"\"\"\n",
    "    return len([doc for doc in results[:n] if doc['imdb_title_id'] in relevant])/n\n",
    "\n",
    "def calculate_metric(key, results, relevant):\n",
    "    return metrics[key](results, relevant)\n",
    "\n",
    "# Define metrics to be calculated\n",
    "evaluation_metrics = {\n",
    "    'ap': 'Average Precision',\n",
    "    'p10': 'Precision at 10 (P@10)'\n",
    "}\n",
    "\n",
    "def metrics_export_table(results: list, relevant: list):\n",
    "    df = pd.DataFrame([['Metric','Value']] +\n",
    "        [\n",
    "            [evaluation_metrics[m], calculate_metric(m, results, relevant)]\n",
    "            for m in evaluation_metrics\n",
    "        ]\n",
    "    )\n",
    "\n",
    "    return df"
   ]
  },
  {
   "cell_type": "code",
   "execution_count": 4,
   "id": "dd82275f",
   "metadata": {},
   "outputs": [],
   "source": [
    "# PRECISION-RECALL CURVE\n",
    "# Calculate precision and recall values as we move down the ranked list\n",
    "def curve(results: list, relevant: list):\n",
    "    precision_values = [\n",
    "        len([\n",
    "            doc \n",
    "            for doc in results[:idx]\n",
    "            if doc['imdb_title_id'] in relevant\n",
    "        ]) / idx \n",
    "        for idx, _ in enumerate(results, start=1)\n",
    "    ]\n",
    "\n",
    "    recall_values = [\n",
    "        len([\n",
    "            doc for doc in results[:idx]\n",
    "            if doc['imdb_title_id'] in relevant\n",
    "        ]) / len(relevant)\n",
    "        for idx, _ in enumerate(results, start=1)\n",
    "    ]\n",
    "\n",
    "    precision_recall_match = {k: v for k,v in zip(recall_values, precision_values)}\n",
    "\n",
    "    # Extend recall_values to include traditional steps for a better curve (0.1, 0.2 ...)\n",
    "    recall_values.extend([step for step in np.arange(0, 1.1, 0.3) if step not in recall_values])\n",
    "    recall_values = sorted(set(recall_values))\n",
    "\n",
    "    # Extend matching dict to include these new intermediate steps\n",
    "    for idx, step in enumerate(recall_values):\n",
    "        if idx > 0 and step not in precision_recall_match:\n",
    "            if recall_values[idx-1] in precision_recall_match:\n",
    "                precision_recall_match[step] = precision_recall_match[recall_values[idx-1]]\n",
    "            else:\n",
    "                precision_recall_match[step] = precision_recall_match[recall_values[idx+1]]\n",
    "\n",
    "    return PrecisionRecallDisplay([precision_recall_match.get(r) for r in recall_values], recall_values)"
   ]
  },
  {
   "cell_type": "code",
   "execution_count": 5,
   "id": "cc0b7671",
   "metadata": {},
   "outputs": [],
   "source": [
    "def get_results(params: dict):\n",
    "    return get(URL, params=params).json()['response']['docs']"
   ]
  },
  {
   "cell_type": "code",
   "execution_count": 6,
   "id": "1ceff34e",
   "metadata": {},
   "outputs": [],
   "source": [
    "def print_titles(dataset: list):\n",
    "    for title in dataset:\n",
    "        print('%s: %d %s' % (title['imdb_title_id'], title['year'], title['original_title']))"
   ]
  },
  {
   "cell_type": "markdown",
   "id": "8751393a",
   "metadata": {},
   "source": [
    "## Experiment 1 - Matrix Trilogy"
   ]
  },
  {
   "cell_type": "code",
   "execution_count": 7,
   "id": "bfe4c23d",
   "metadata": {},
   "outputs": [],
   "source": [
    "# schema-less\n",
    "relevant = list(map(lambda el: el.strip(), open('matrix_qrels.txt').readlines()))\n",
    "\n",
    "standard_params = {\n",
    "    'q': 'title:matrix original_title:matrix description:(matrix neo) plot:(matrix neo) ',\n",
    "    'wt': 'json',\n",
    "    'defType': 'edismax'\n",
    "}\n",
    "\n",
    "schemaless_results = get_results(params=standard_params)"
   ]
  },
  {
   "cell_type": "code",
   "execution_count": 8,
   "id": "e3d1a1ae",
   "metadata": {},
   "outputs": [],
   "source": [
    "standard_results = get_results(params=standard_params)\n",
    "\n",
    "enhanced_params = {\n",
    "    'q': '(original_title:matrix title:matrix) AND (description:neo plot:neo)',\n",
    "    'wt': 'json',\n",
    "    'qf': 'original_title description^2 plot^3',\n",
    "    'defType': 'edismax'\n",
    "}\n",
    "\n",
    "enhanced_results = get_results(params=enhanced_params)"
   ]
  },
  {
   "cell_type": "code",
   "execution_count": 9,
   "id": "d8db36a8",
   "metadata": {},
   "outputs": [
    {
     "name": "stdout",
     "output_type": "stream",
     "text": [
      "tt0234215: 2003 The Matrix Reloaded\n",
      "tt0242653: 2003 The Matrix Revolutions\n",
      "tt0133093: 1999 The Matrix\n",
      "tt0970173: 2007 Buhera mátrix\n",
      "tt0415955: 2004 Maarek hob\n",
      "tt0292097: 2000 Markova: Comfort Gay\n",
      "tt0102421: 1991 Mayrig\n",
      "tt0074883: 1976 Maîtresse\n",
      "tt0437526: 2007 Une vieille maîtresse\n",
      "tt0084315: 1982 Les maîtres du temps\n"
     ]
    }
   ],
   "source": [
    "print_titles(standard_results)"
   ]
  },
  {
   "cell_type": "code",
   "execution_count": 10,
   "id": "8d0bc093",
   "metadata": {},
   "outputs": [
    {
     "name": "stdout",
     "output_type": "stream",
     "text": [
      "tt0234215: 2003 The Matrix Reloaded\n",
      "tt0242653: 2003 The Matrix Revolutions\n",
      "tt0133093: 1999 The Matrix\n"
     ]
    }
   ],
   "source": [
    "print_titles(enhanced_results)"
   ]
  },
  {
   "cell_type": "code",
   "execution_count": 11,
   "id": "5295e431",
   "metadata": {},
   "outputs": [],
   "source": [
    "schemaless_table = metrics_export_table(results=schemaless_results, relevant=relevant)\n",
    "standard_table = metrics_export_table(results=standard_results, relevant=relevant)\n",
    "enhanced_table = metrics_export_table(results=enhanced_results, relevant=relevant)\n",
    "\n",
    "schemaless_curve = curve(results=schemaless_results, relevant=relevant)\n",
    "standard_curve = curve(results=standard_results, relevant=relevant)\n",
    "enhanced_curve = curve(results=enhanced_results, relevant=relevant)"
   ]
  },
  {
   "cell_type": "code",
   "execution_count": 12,
   "id": "d760e7af",
   "metadata": {},
   "outputs": [
    {
     "name": "stdout",
     "output_type": "stream",
     "text": [
      "                        0      1\n",
      "0                  Metric  Value\n",
      "1       Average Precision    1.0\n",
      "2  Precision at 10 (P@10)    0.3\n",
      "                        0      1\n",
      "0                  Metric  Value\n",
      "1       Average Precision    1.0\n",
      "2  Precision at 10 (P@10)    0.3\n",
      "                        0      1\n",
      "0                  Metric  Value\n",
      "1       Average Precision    1.0\n",
      "2  Precision at 10 (P@10)    0.3\n"
     ]
    }
   ],
   "source": [
    "print(schemaless_table)\n",
    "print(standard_table)\n",
    "print(enhanced_table)"
   ]
  },
  {
   "cell_type": "code",
   "execution_count": 13,
   "id": "11c74878",
   "metadata": {
    "scrolled": false
   },
   "outputs": [
    {
     "data": {
      "image/png": "[encoded data removed]",
      "text/plain": [
       "<Figure size 1080x360 with 3 Axes>"
      ]
     },
     "metadata": {
      "needs_background": "light"
     },
     "output_type": "display_data"
    }
   ],
   "source": [
    "fig, (ax1, ax2, ax3) = plt.subplots(1, 3, sharey=True, figsize=(15,5))\n",
    "\n",
    "ax1.set_title('Schemaless')\n",
    "ax2.set_title('Schema w/out boost')\n",
    "ax3.set_title('Schema w/ boost')\n",
    "fig.suptitle('Matrix Trilogy Query Evaluation')\n",
    "\n",
    "schemaless_curve.plot(ax=ax1)\n",
    "standard_curve.plot(ax=ax2)\n",
    "enhanced_curve.plot(ax=ax3)\n",
    "\n",
    "plt.show()"
   ]
  },
  {
   "cell_type": "code",
   "execution_count": 14,
   "id": "8e68d171",
   "metadata": {
    "scrolled": false
   },
   "outputs": [
    {
     "data": {
      "image/png": "[encoded data removed]",
      "text/plain": [
       "<Figure size 432x288 with 1 Axes>"
      ]
     },
     "metadata": {
      "needs_background": "light"
     },
     "output_type": "display_data"
    },
    {
     "data": {
      "image/png": "[encoded data removed]",
      "text/plain": [
       "<Figure size 432x288 with 1 Axes>"
      ]
     },
     "metadata": {
      "needs_background": "light"
     },
     "output_type": "display_data"
    },
    {
     "data": {
      "image/png": "[encoded data removed]",
      "text/plain": [
       "<Figure size 432x288 with 1 Axes>"
      ]
     },
     "metadata": {
      "needs_background": "light"
     },
     "output_type": "display_data"
    }
   ],
   "source": [
    "schemaless_curve.plot()\n",
    "plt.savefig('plots/exp1_1.png')\n",
    "standard_curve.plot()\n",
    "plt.savefig('plots/exp1_2.png')\n",
    "enhanced_curve.plot()\n",
    "plt.savefig('plots/exp1_3.png')"
   ]
  },
  {
   "cell_type": "code",
   "execution_count": null,
   "id": "3e5ff020",
   "metadata": {},
   "outputs": [],
   "source": []
  },
  {
   "cell_type": "code",
   "execution_count": 15,
   "id": "bfe4c23d",
   "metadata": {},
   "outputs": [],
   "source": [
    "# schema-less\n",
    "relevant = list(map(lambda el: el.strip(), open('matrix_qrels.txt').readlines()))\n",
    "\n",
    "standard_params = {\n",
    "    'q': 'title:matrix original_title:matrix description:(matrix neo) plot:(matrix neo) ',\n",
    "    'wt': 'json',\n",
    "    'defType': 'edismax'\n",
    "}\n",
    "\n",
    "schemaless_results = get_results(params=standard_params)"
   ]
  },
  {
   "cell_type": "code",
   "execution_count": 16,
   "id": "e3d1a1ae",
   "metadata": {},
   "outputs": [],
   "source": [
    "standard_results = get_results(params=standard_params)\n",
    "\n",
    "enhanced_params = {\n",
    "    'q': '(original_title:matrix title:matrix) AND (description:neo plot:neo)',\n",
    "    'wt': 'json',\n",
    "    'qf': 'original_title description^2 plot^3',\n",
    "    'defType': 'edismax'\n",
    "}\n",
    "\n",
    "enhanced_results = get_results(params=enhanced_params)"
   ]
  },
  {
   "cell_type": "code",
   "execution_count": 17,
   "id": "d8db36a8",
   "metadata": {},
   "outputs": [
    {
     "name": "stdout",
     "output_type": "stream",
     "text": [
      "tt0234215: 2003 The Matrix Reloaded\n",
      "tt0242653: 2003 The Matrix Revolutions\n",
      "tt0133093: 1999 The Matrix\n",
      "tt0970173: 2007 Buhera mátrix\n",
      "tt0415955: 2004 Maarek hob\n",
      "tt0292097: 2000 Markova: Comfort Gay\n",
      "tt0102421: 1991 Mayrig\n",
      "tt0074883: 1976 Maîtresse\n",
      "tt0437526: 2007 Une vieille maîtresse\n",
      "tt0084315: 1982 Les maîtres du temps\n"
     ]
    }
   ],
   "source": [
    "print_titles(standard_results)"
   ]
  },
  {
   "cell_type": "code",
   "execution_count": 18,
   "id": "8d0bc093",
   "metadata": {},
   "outputs": [
    {
     "name": "stdout",
     "output_type": "stream",
     "text": [
      "tt0234215: 2003 The Matrix Reloaded\n",
      "tt0242653: 2003 The Matrix Revolutions\n",
      "tt0133093: 1999 The Matrix\n"
     ]
    }
   ],
   "source": [
    "print_titles(enhanced_results)"
   ]
  },
  {
   "cell_type": "code",
   "execution_count": 19,
   "id": "5295e431",
   "metadata": {},
   "outputs": [],
   "source": [
    "schemaless_table = metrics_export_table(results=schemaless_results, relevant=relevant)\n",
    "standard_table = metrics_export_table(results=standard_results, relevant=relevant)\n",
    "enhanced_table = metrics_export_table(results=enhanced_results, relevant=relevant)\n",
    "\n",
    "schemaless_curve = curve(results=schemaless_results, relevant=relevant)\n",
    "standard_curve = curve(results=standard_results, relevant=relevant)\n",
    "enhanced_curve = curve(results=enhanced_results, relevant=relevant)"
   ]
  },
  {
   "cell_type": "code",
   "execution_count": 20,
   "id": "d760e7af",
   "metadata": {},
   "outputs": [
    {
     "name": "stdout",
     "output_type": "stream",
     "text": [
      "                        0      1\n",
      "0                  Metric  Value\n",
      "1       Average Precision    1.0\n",
      "2  Precision at 10 (P@10)    0.3\n",
      "                        0      1\n",
      "0                  Metric  Value\n",
      "1       Average Precision    1.0\n",
      "2  Precision at 10 (P@10)    0.3\n",
      "                        0      1\n",
      "0                  Metric  Value\n",
      "1       Average Precision    1.0\n",
      "2  Precision at 10 (P@10)    0.3\n"
     ]
    }
   ],
   "source": [
    "print(schemaless_table)\n",
    "print(standard_table)\n",
    "print(enhanced_table)"
   ]
  },
  {
   "cell_type": "code",
   "execution_count": 21,
   "id": "11c74878",
   "metadata": {
    "scrolled": false
   },
   "outputs": [
    {
     "data": {
      "image/png": "[encoded data removed]",
      "text/plain": [
       "<Figure size 1080x360 with 3 Axes>"
      ]
     },
     "metadata": {
      "needs_background": "light"
     },
     "output_type": "display_data"
    }
   ],
   "source": [
    "fig, (ax1, ax2, ax3) = plt.subplots(1, 3, sharey=True, figsize=(15,5))\n",
    "\n",
    "ax1.set_title('Schemaless')\n",
    "ax2.set_title('Schema w/out boost')\n",
    "ax3.set_title('Schema w/ boost')\n",
    "fig.suptitle('Matrix Trilogy Query Evaluation')\n",
    "\n",
    "schemaless_curve.plot(ax=ax1)\n",
    "standard_curve.plot(ax=ax2)\n",
    "enhanced_curve.plot(ax=ax3)\n",
    "\n",
    "plt.show()"
   ]
  },
  {
   "cell_type": "code",
   "execution_count": 22,
   "id": "8e68d171",
   "metadata": {
    "scrolled": false
   },
   "outputs": [
    {
     "data": {
      "image/png": "[encoded data removed]",
      "text/plain": [
       "<Figure size 432x288 with 1 Axes>"
      ]
     },
     "metadata": {
      "needs_background": "light"
     },
     "output_type": "display_data"
    },
    {
     "data": {
      "image/png": "[encoded data removed]",
      "text/plain": [
       "<Figure size 432x288 with 1 Axes>"
      ]
     },
     "metadata": {
      "needs_background": "light"
     },
     "output_type": "display_data"
    },
    {
     "data": {
      "image/png": "[encoded data removed]",
      "text/plain": [
       "<Figure size 432x288 with 1 Axes>"
      ]
     },
     "metadata": {
      "needs_background": "light"
     },
     "output_type": "display_data"
    }
   ],
   "source": [
    "schemaless_curve.plot()\n",
    "plt.savefig('plots/exp1_1.png')\n",
    "standard_curve.plot()\n",
    "plt.savefig('plots/exp1_2.png')\n",
    "enhanced_curve.plot()\n",
    "plt.savefig('plots/exp1_3.png')"
   ]
  },
  {
   "cell_type": "code",
   "execution_count": null,
   "id": "3e5ff020",
   "metadata": {},
   "outputs": [],
   "source": []
  },
  {
   "cell_type": "code",
   "execution_count": 23,
   "id": "bfe4c23d",
   "metadata": {},
   "outputs": [],
   "source": [
    "# schema-less\n",
    "relevant = list(map(lambda el: el.strip(), open('matrix_qrels.txt').readlines()))\n",
    "\n",
    "standard_params = {\n",
    "    'q': 'title:matrix original_title:matrix description:(matrix neo) plot:(matrix neo) ',\n",
    "    'wt': 'json',\n",
    "    'defType': 'edismax'\n",
    "}\n",
    "\n",
    "schemaless_results = get_results(params=standard_params)"
   ]
  },
  {
   "cell_type": "code",
   "execution_count": 24,
   "id": "e3d1a1ae",
   "metadata": {},
   "outputs": [],
   "source": [
    "standard_results = get_results(params=standard_params)\n",
    "\n",
    "enhanced_params = {\n",
    "    'q': '(original_title:matrix title:matrix) AND (description:neo plot:neo)',\n",
    "    'wt': 'json',\n",
    "    'qf': 'original_title description^2 plot^3',\n",
    "    'defType': 'edismax'\n",
    "}\n",
    "\n",
    "enhanced_results = get_results(params=enhanced_params)"
   ]
  },
  {
   "cell_type": "code",
   "execution_count": 25,
   "id": "d8db36a8",
   "metadata": {},
   "outputs": [
    {
     "name": "stdout",
     "output_type": "stream",
     "text": [
      "tt0234215: 2003 The Matrix Reloaded\n",
      "tt0242653: 2003 The Matrix Revolutions\n",
      "tt0133093: 1999 The Matrix\n",
      "tt0970173: 2007 Buhera mátrix\n",
      "tt0415955: 2004 Maarek hob\n",
      "tt0292097: 2000 Markova: Comfort Gay\n",
      "tt0102421: 1991 Mayrig\n",
      "tt0074883: 1976 Maîtresse\n",
      "tt0437526: 2007 Une vieille maîtresse\n",
      "tt0084315: 1982 Les maîtres du temps\n"
     ]
    }
   ],
   "source": [
    "print_titles(standard_results)"
   ]
  },
  {
   "cell_type": "code",
   "execution_count": 26,
   "id": "8d0bc093",
   "metadata": {},
   "outputs": [
    {
     "name": "stdout",
     "output_type": "stream",
     "text": [
      "tt0234215: 2003 The Matrix Reloaded\n",
      "tt0242653: 2003 The Matrix Revolutions\n",
      "tt0133093: 1999 The Matrix\n"
     ]
    }
   ],
   "source": [
    "print_titles(enhanced_results)"
   ]
  },
  {
   "cell_type": "code",
   "execution_count": 27,
   "id": "5295e431",
   "metadata": {},
   "outputs": [],
   "source": [
    "schemaless_table = metrics_export_table(results=schemaless_results, relevant=relevant)\n",
    "standard_table = metrics_export_table(results=standard_results, relevant=relevant)\n",
    "enhanced_table = metrics_export_table(results=enhanced_results, relevant=relevant)\n",
    "\n",
    "schemaless_curve = curve(results=schemaless_results, relevant=relevant)\n",
    "standard_curve = curve(results=standard_results, relevant=relevant)\n",
    "enhanced_curve = curve(results=enhanced_results, relevant=relevant)"
   ]
  },
  {
   "cell_type": "code",
   "execution_count": 28,
   "id": "d760e7af",
   "metadata": {},
   "outputs": [
    {
     "name": "stdout",
     "output_type": "stream",
     "text": [
      "                        0      1\n",
      "0                  Metric  Value\n",
      "1       Average Precision    1.0\n",
      "2  Precision at 10 (P@10)    0.3\n",
      "                        0      1\n",
      "0                  Metric  Value\n",
      "1       Average Precision    1.0\n",
      "2  Precision at 10 (P@10)    0.3\n",
      "                        0      1\n",
      "0                  Metric  Value\n",
      "1       Average Precision    1.0\n",
      "2  Precision at 10 (P@10)    0.3\n"
     ]
    }
   ],
   "source": [
    "print(schemaless_table)\n",
    "print(standard_table)\n",
    "print(enhanced_table)"
   ]
  },
  {
   "cell_type": "code",
   "execution_count": 29,
   "id": "11c74878",
   "metadata": {
    "scrolled": false
   },
   "outputs": [
    {
     "data": {
      "image/png": "[encoded data removed]",
      "text/plain": [
       "<Figure size 1080x360 with 3 Axes>"
      ]
     },
     "metadata": {
      "needs_background": "light"
     },
     "output_type": "display_data"
    }
   ],
   "source": [
    "fig, (ax1, ax2, ax3) = plt.subplots(1, 3, sharey=True, figsize=(15,5))\n",
    "\n",
    "ax1.set_title('Schemaless')\n",
    "ax2.set_title('Schema w/out boost')\n",
    "ax3.set_title('Schema w/ boost')\n",
    "fig.suptitle('Matrix Trilogy Query Evaluation')\n",
    "\n",
    "schemaless_curve.plot(ax=ax1)\n",
    "standard_curve.plot(ax=ax2)\n",
    "enhanced_curve.plot(ax=ax3)\n",
    "\n",
    "plt.show()"
   ]
  },
  {
   "cell_type": "code",
   "execution_count": 30,
   "id": "8e68d171",
   "metadata": {
    "scrolled": false
   },
   "outputs": [
    {
     "data": {
      "image/png": "[encoded data removed]",
      "text/plain": [
       "<Figure size 432x288 with 1 Axes>"
      ]
     },
     "metadata": {
      "needs_background": "light"
     },
     "output_type": "display_data"
    },
    {
     "data": {
      "image/png": "[encoded data removed]",
      "text/plain": [
       "<Figure size 432x288 with 1 Axes>"
      ]
     },
     "metadata": {
      "needs_background": "light"
     },
     "output_type": "display_data"
    },
    {
     "data": {
      "image/png": "[encoded data removed]",
      "text/plain": [
       "<Figure size 432x288 with 1 Axes>"
      ]
     },
     "metadata": {
      "needs_background": "light"
     },
     "output_type": "display_data"
    }
   ],
   "source": [
    "schemaless_curve.plot()\n",
    "plt.savefig('plots/exp1_1.png')\n",
    "standard_curve.plot()\n",
    "plt.savefig('plots/exp1_2.png')\n",
    "enhanced_curve.plot()\n",
    "plt.savefig('plots/exp1_3.png')"
   ]
  },
  {
   "cell_type": "code",
   "execution_count": null,
   "id": "3e5ff020",
   "metadata": {},
   "outputs": [],
   "source": []
  },
  {
   "cell_type": "code",
   "execution_count": 31,
   "id": "bfe4c23d",
   "metadata": {},
   "outputs": [],
   "source": [
    "# schema-less\n",
    "relevant = list(map(lambda el: el.strip(), open('matrix_qrels.txt').readlines()))\n",
    "\n",
    "standard_params = {\n",
    "    'q': 'title:matrix original_title:matrix description:(matrix neo) plot:(matrix neo) ',\n",
    "    'wt': 'json',\n",
    "    'defType': 'edismax'\n",
    "}\n",
    "\n",
    "schemaless_results = get_results(params=standard_params)"
   ]
  },
  {
   "cell_type": "code",
   "execution_count": 32,
   "id": "e3d1a1ae",
   "metadata": {},
   "outputs": [],
   "source": [
    "standard_results = get_results(params=standard_params)\n",
    "\n",
    "enhanced_params = {\n",
    "    'q': '(original_title:matrix title:matrix) AND (description:neo plot:neo)',\n",
    "    'wt': 'json',\n",
    "    'qf': 'original_title description^2 plot^3',\n",
    "    'defType': 'edismax'\n",
    "}\n",
    "\n",
    "enhanced_results = get_results(params=enhanced_params)"
   ]
  },
  {
   "cell_type": "code",
   "execution_count": 33,
   "id": "d8db36a8",
   "metadata": {},
   "outputs": [
    {
     "name": "stdout",
     "output_type": "stream",
     "text": [
      "tt0234215: 2003 The Matrix Reloaded\n",
      "tt0242653: 2003 The Matrix Revolutions\n",
      "tt0133093: 1999 The Matrix\n",
      "tt0970173: 2007 Buhera mátrix\n",
      "tt0415955: 2004 Maarek hob\n",
      "tt0292097: 2000 Markova: Comfort Gay\n",
      "tt0102421: 1991 Mayrig\n",
      "tt0074883: 1976 Maîtresse\n",
      "tt0437526: 2007 Une vieille maîtresse\n",
      "tt0084315: 1982 Les maîtres du temps\n"
     ]
    }
   ],
   "source": [
    "print_titles(standard_results)"
   ]
  },
  {
   "cell_type": "code",
   "execution_count": 34,
   "id": "8d0bc093",
   "metadata": {},
   "outputs": [
    {
     "name": "stdout",
     "output_type": "stream",
     "text": [
      "tt0234215: 2003 The Matrix Reloaded\n",
      "tt0242653: 2003 The Matrix Revolutions\n",
      "tt0133093: 1999 The Matrix\n"
     ]
    }
   ],
   "source": [
    "print_titles(enhanced_results)"
   ]
  },
  {
   "cell_type": "code",
   "execution_count": 35,
   "id": "5295e431",
   "metadata": {},
   "outputs": [],
   "source": [
    "schemaless_table = metrics_export_table(results=schemaless_results, relevant=relevant)\n",
    "standard_table = metrics_export_table(results=standard_results, relevant=relevant)\n",
    "enhanced_table = metrics_export_table(results=enhanced_results, relevant=relevant)\n",
    "\n",
    "schemaless_curve = curve(results=schemaless_results, relevant=relevant)\n",
    "standard_curve = curve(results=standard_results, relevant=relevant)\n",
    "enhanced_curve = curve(results=enhanced_results, relevant=relevant)"
   ]
  },
  {
   "cell_type": "code",
   "execution_count": 36,
   "id": "d760e7af",
   "metadata": {},
   "outputs": [
    {
     "name": "stdout",
     "output_type": "stream",
     "text": [
      "                        0      1\n",
      "0                  Metric  Value\n",
      "1       Average Precision    1.0\n",
      "2  Precision at 10 (P@10)    0.3\n",
      "                        0      1\n",
      "0                  Metric  Value\n",
      "1       Average Precision    1.0\n",
      "2  Precision at 10 (P@10)    0.3\n",
      "                        0      1\n",
      "0                  Metric  Value\n",
      "1       Average Precision    1.0\n",
      "2  Precision at 10 (P@10)    0.3\n"
     ]
    }
   ],
   "source": [
    "print(schemaless_table)\n",
    "print(standard_table)\n",
    "print(enhanced_table)"
   ]
  },
  {
   "cell_type": "code",
   "execution_count": 37,
   "id": "11c74878",
   "metadata": {
    "scrolled": false
   },
   "outputs": [
    {
     "data": {
      "image/png": "[encoded data removed]",
      "text/plain": [
       "<Figure size 1080x360 with 3 Axes>"
      ]
     },
     "metadata": {
      "needs_background": "light"
     },
     "output_type": "display_data"
    }
   ],
   "source": [
    "fig, (ax1, ax2, ax3) = plt.subplots(1, 3, sharey=True, figsize=(15,5))\n",
    "\n",
    "ax1.set_title('Schemaless')\n",
    "ax2.set_title('Schema w/out boost')\n",
    "ax3.set_title('Schema w/ boost')\n",
    "fig.suptitle('Matrix Trilogy Query Evaluation')\n",
    "\n",
    "schemaless_curve.plot(ax=ax1)\n",
    "standard_curve.plot(ax=ax2)\n",
    "enhanced_curve.plot(ax=ax3)\n",
    "\n",
    "plt.show()"
   ]
  },
  {
   "cell_type": "code",
   "execution_count": 38,
   "id": "8e68d171",
   "metadata": {
    "scrolled": false
   },
   "outputs": [
    {
     "data": {
      "image/png": "[encoded data removed]",
      "text/plain": [
       "<Figure size 432x288 with 1 Axes>"
      ]
     },
     "metadata": {
      "needs_background": "light"
     },
     "output_type": "display_data"
    },
    {
     "data": {
      "image/png": "[encoded data removed]",
      "text/plain": [
       "<Figure size 432x288 with 1 Axes>"
      ]
     },
     "metadata": {
      "needs_background": "light"
     },
     "output_type": "display_data"
    },
    {
     "data": {
      "image/png": "[encoded data removed]",
      "text/plain": [
       "<Figure size 432x288 with 1 Axes>"
      ]
     },
     "metadata": {
      "needs_background": "light"
     },
     "output_type": "display_data"
    }
   ],
   "source": [
    "schemaless_curve.plot()\n",
    "plt.savefig('plots/exp1_1.png')\n",
    "standard_curve.plot()\n",
    "plt.savefig('plots/exp1_2.png')\n",
    "enhanced_curve.plot()\n",
    "plt.savefig('plots/exp1_3.png')"
   ]
  },
  {
   "cell_type": "code",
   "execution_count": null,
   "id": "3e5ff020",
   "metadata": {},
   "outputs": [],
   "source": []
  },
  {
   "cell_type": "markdown",
   "id": "8751393a",
   "metadata": {},
   "source": [
    "## Experiment 2 - Harry Potter Franchise"
   ]
  },
  {
   "cell_type": "code",
   "execution_count": 39,
   "id": "bfe4c23d",
   "metadata": {},
   "outputs": [],
   "source": [
    "# schema-less\n",
    "relevant = list(map(lambda el: el.strip(), open('experiment1.txt').readlines()))\n",
    "\n",
    "standard_params = {\n",
    "    'q': 'plot:(wizard magic harry) OR description:(wizard magic harry)',\n",
    "    'wt': 'json',\n",
    "    'defType': 'edismax',\n",
    "    'rows': 20,\n",
    "}\n",
    "\n",
    "schemaless_results = get_results(params=standard_params)"
   ]
  },
  {
   "cell_type": "code",
   "execution_count": 40,
   "id": "e3d1a1ae",
   "metadata": {},
   "outputs": [],
   "source": [
    "standard_results = get_results(params=standard_params)\n",
    "\n",
    "enhanced_params = {\n",
    "    'q': 'genre:fantasy plot:(wizard magic harry) OR description:(wizard magic harry)',\n",
    "    'wt': 'json',\n",
    "    'qf': 'description^2',\n",
    "    'defType': 'edismax',\n",
    "    'rows': 20,\n",
    "}\n",
    "\n",
    "enhanced_results = get_results(params=enhanced_params)"
   ]
  },
  {
   "cell_type": "code",
   "execution_count": 41,
   "id": "d8db36a8",
   "metadata": {},
   "outputs": [
    {
     "name": "stdout",
     "output_type": "stream",
     "text": [
      "tt0330373: 2005 Harry Potter and the Goblet of Fire\n",
      "tt0056211: 1962 The Magic Sword\n",
      "tt0021287: 1930 Reaching for the Moon\n",
      "tt0417741: 2009 Harry Potter and the Half-Blood Prince\n",
      "tt0373889: 2007 Harry Potter and the Order of the Phoenix\n",
      "tt0304141: 2004 Harry Potter and the Prisoner of Azkaban\n",
      "tt0082288: 1981 Dragonslayer\n",
      "tt0092723: 1987 The Care Bears Adventure in Wonderland\n",
      "tt0092115: 1986 Troll\n",
      "tt0078504: 1978 The Wiz\n",
      "tt0032138: 1939 The Wizard of Oz\n",
      "tt0076929: 1977 Wizards\n",
      "tt0472181: 2011 The Smurfs\n",
      "tt0295297: 2002 Harry Potter and the Chamber of Secrets\n",
      "tt0339334: 2005 The Magic Roundabout\n",
      "tt0041162: 1949 Batman and Robin\n",
      "tt0104855: 1993 Merlin\n",
      "tt0091964: 1986 Sky Pirates\n",
      "tt0045886: 1953 Houdini\n",
      "tt0098333: 1989 Sinbad of the Seven Seas\n"
     ]
    }
   ],
   "source": [
    "print_titles(standard_results)"
   ]
  },
  {
   "cell_type": "code",
   "execution_count": 42,
   "id": "8d0bc093",
   "metadata": {},
   "outputs": [
    {
     "name": "stdout",
     "output_type": "stream",
     "text": [
      "tt0330373: 2005 Harry Potter and the Goblet of Fire\n",
      "tt0056211: 1962 The Magic Sword\n",
      "tt0304141: 2004 Harry Potter and the Prisoner of Azkaban\n",
      "tt0021287: 1930 Reaching for the Moon\n",
      "tt0082288: 1981 Dragonslayer\n",
      "tt0417741: 2009 Harry Potter and the Half-Blood Prince\n",
      "tt0092115: 1986 Troll\n",
      "tt0373889: 2007 Harry Potter and the Order of the Phoenix\n",
      "tt0078504: 1978 The Wiz\n",
      "tt0032138: 1939 The Wizard of Oz\n",
      "tt0076929: 1977 Wizards\n",
      "tt0295297: 2002 Harry Potter and the Chamber of Secrets\n",
      "tt0092723: 1987 The Care Bears Adventure in Wonderland\n",
      "tt0472181: 2011 The Smurfs\n",
      "tt0104855: 1993 Merlin\n",
      "tt0339334: 2005 The Magic Roundabout\n",
      "tt0033317: 1941 Adventures of Captain Marvel\n",
      "tt0097174: 1988 Deathstalker and the Warriors from Hell\n",
      "tt0165866: 1998 Lucinda's Spell\n",
      "tt0041162: 1949 Batman and Robin\n"
     ]
    }
   ],
   "source": [
    "print_titles(enhanced_results)"
   ]
  },
  {
   "cell_type": "code",
   "execution_count": 43,
   "id": "5295e431",
   "metadata": {},
   "outputs": [],
   "source": [
    "schemaless_table = metrics_export_table(results=schemaless_results, relevant=relevant)\n",
    "standard_table = metrics_export_table(results=standard_results, relevant=relevant)\n",
    "enhanced_table = metrics_export_table(results=enhanced_results, relevant=relevant)\n",
    "\n",
    "schemaless_curve = curve(results=schemaless_results, relevant=relevant)\n",
    "standard_curve = curve(results=standard_results, relevant=relevant)\n",
    "enhanced_curve = curve(results=enhanced_results, relevant=relevant)"
   ]
  },
  {
   "cell_type": "code",
   "execution_count": 44,
   "id": "d760e7af",
   "metadata": {},
   "outputs": [
    {
     "name": "stdout",
     "output_type": "stream",
     "text": [
      "                        0         1\n",
      "0                  Metric     Value\n",
      "1       Average Precision  0.530952\n",
      "2  Precision at 10 (P@10)       0.4\n",
      "                        0         1\n",
      "0                  Metric     Value\n",
      "1       Average Precision  0.530952\n",
      "2  Precision at 10 (P@10)       0.4\n",
      "                        0         1\n",
      "0                  Metric     Value\n",
      "1       Average Precision  0.520833\n",
      "2  Precision at 10 (P@10)       0.4\n"
     ]
    }
   ],
   "source": [
    "print(schemaless_table)\n",
    "print(standard_table)\n",
    "print(enhanced_table)"
   ]
  },
  {
   "cell_type": "code",
   "execution_count": 45,
   "id": "11c74878",
   "metadata": {
    "scrolled": false
   },
   "outputs": [
    {
     "data": {
      "image/png": "[encoded data removed]",
      "text/plain": [
       "<Figure size 1080x360 with 3 Axes>"
      ]
     },
     "metadata": {
      "needs_background": "light"
     },
     "output_type": "display_data"
    }
   ],
   "source": [
    "fig, (ax1, ax2, ax3) = plt.subplots(1, 3, sharey=True, figsize=(15,5))\n",
    "\n",
    "ax1.set_title('Schemaless')\n",
    "ax2.set_title('Schema w/out boost')\n",
    "ax3.set_title('Schema w/ boost')\n",
    "fig.suptitle('Harry Potter Franchise Query Evaluation')\n",
    "\n",
    "schemaless_curve.plot(ax=ax1)\n",
    "standard_curve.plot(ax=ax2)\n",
    "enhanced_curve.plot(ax=ax3)\n",
    "\n",
    "plt.show()"
   ]
  },
  {
   "cell_type": "code",
   "execution_count": 46,
   "id": "8e68d171",
   "metadata": {
    "scrolled": false
   },
   "outputs": [
    {
     "data": {
      "image/png": "[encoded data removed]",
      "text/plain": [
       "<Figure size 432x288 with 1 Axes>"
      ]
     },
     "metadata": {
      "needs_background": "light"
     },
     "output_type": "display_data"
    },
    {
     "data": {
      "image/png": "[encoded data removed]",
      "text/plain": [
       "<Figure size 432x288 with 1 Axes>"
      ]
     },
     "metadata": {
      "needs_background": "light"
     },
     "output_type": "display_data"
    },
    {
     "data": {
      "image/png": "[encoded data removed]",
      "text/plain": [
       "<Figure size 432x288 with 1 Axes>"
      ]
     },
     "metadata": {
      "needs_background": "light"
     },
     "output_type": "display_data"
    }
   ],
   "source": [
    "schemaless_curve.plot()\n",
    "plt.savefig('plots/exp2_1.png')\n",
    "standard_curve.plot()\n",
    "plt.savefig('plots/exp2_2.png')\n",
    "enhanced_curve.plot()\n",
    "plt.savefig('plots/exp2_3.png')"
   ]
  },
  {
   "cell_type": "markdown",
   "id": "3e5ff020",
   "metadata": {},
   "source": [
    "## Experiment 3 - Toy Story Franchise"
   ]
  },
  {
   "cell_type": "code",
   "execution_count": 47,
   "id": "bfe4c23d",
   "metadata": {},
   "outputs": [],
   "source": [
    "# schema-less\n",
    "relevant = list(map(lambda el: el.strip(), open('experiment2.txt').readlines()))\n",
    "\n",
    "standard_params = {\n",
    "    'q': 'plot:(toy woody) description:(toy woody)',\n",
    "    'wt': 'json',\n",
    "    'defType': 'edismax',\n",
    "}\n",
    "\n",
    "schemaless_results = get_results(params=standard_params)"
   ]
  },
  {
   "cell_type": "code",
   "execution_count": 48,
   "id": "e3d1a1ae",
   "metadata": {},
   "outputs": [],
   "source": [
    "standard_results = get_results(params=standard_params)\n",
    "\n",
    "enhanced_params = {\n",
    "    'q': 'genre:animation original_title:toy plot:(toy woody) description:(toy woody)',\n",
    "    'wt': 'json',\n",
    "    'qf': 'description^3 original_title^2 genre',\n",
    "    'defType': 'edismax',\n",
    "}\n",
    "\n",
    "enhanced_results = get_results(params=enhanced_params)"
   ]
  },
  {
   "cell_type": "code",
   "execution_count": 49,
   "id": "d8db36a8",
   "metadata": {},
   "outputs": [
    {
     "name": "stdout",
     "output_type": "stream",
     "text": [
      "tt0120363: 1999 Toy Story 2\n",
      "tt0435761: 2010 Toy Story 3\n",
      "tt0114709: 1995 Toy Story\n",
      "tt0082199: 1981 Condorman\n",
      "tt1460643: 2010 Pimp\n",
      "tt1218345: 2008 Dil Kabaddi\n",
      "tt0122718: 1998 Small Soldiers\n",
      "tt1979376: 2019 Toy Story 4\n",
      "tt0105629: 1992 Toys\n",
      "tt0076416: 1977 The Mouse and His Child\n"
     ]
    }
   ],
   "source": [
    "print_titles(standard_results)"
   ]
  },
  {
   "cell_type": "code",
   "execution_count": 50,
   "id": "8d0bc093",
   "metadata": {},
   "outputs": [
    {
     "name": "stdout",
     "output_type": "stream",
     "text": [
      "tt0120363: 1999 Toy Story 2\n",
      "tt0435761: 2010 Toy Story 3\n",
      "tt0114709: 1995 Toy Story\n",
      "tt1979376: 2019 Toy Story 4\n",
      "tt0082199: 1981 Condorman\n",
      "tt0076416: 1977 The Mouse and His Child\n",
      "tt0105629: 1992 Toys\n",
      "tt1460643: 2010 Pimp\n",
      "tt0091149: 1986 The Great Mouse Detective\n",
      "tt0100281: 1990 The Nutcracker Prince\n"
     ]
    }
   ],
   "source": [
    "print_titles(enhanced_results)"
   ]
  },
  {
   "cell_type": "code",
   "execution_count": 51,
   "id": "5295e431",
   "metadata": {},
   "outputs": [],
   "source": [
    "schemaless_table = metrics_export_table(results=schemaless_results, relevant=relevant)\n",
    "standard_table = metrics_export_table(results=standard_results, relevant=relevant)\n",
    "enhanced_table = metrics_export_table(results=enhanced_results, relevant=relevant)\n",
    "\n",
    "schemaless_curve = curve(results=schemaless_results, relevant=relevant)\n",
    "standard_curve = curve(results=standard_results, relevant=relevant)\n",
    "enhanced_curve = curve(results=enhanced_results, relevant=relevant)"
   ]
  },
  {
   "cell_type": "code",
   "execution_count": 52,
   "id": "d760e7af",
   "metadata": {},
   "outputs": [
    {
     "name": "stdout",
     "output_type": "stream",
     "text": [
      "                        0         1\n",
      "0                  Metric     Value\n",
      "1       Average Precision  0.833333\n",
      "2  Precision at 10 (P@10)       0.4\n",
      "                        0         1\n",
      "0                  Metric     Value\n",
      "1       Average Precision  0.833333\n",
      "2  Precision at 10 (P@10)       0.4\n",
      "                        0      1\n",
      "0                  Metric  Value\n",
      "1       Average Precision    1.0\n",
      "2  Precision at 10 (P@10)    0.4\n"
     ]
    }
   ],
   "source": [
    "print(schemaless_table)\n",
    "print(standard_table)\n",
    "print(enhanced_table)"
   ]
  },
  {
   "cell_type": "code",
   "execution_count": 53,
   "id": "11c74878",
   "metadata": {
    "scrolled": false
   },
   "outputs": [
    {
     "data": {
      "image/png": "[encoded data removed]",
      "text/plain": [
       "<Figure size 1080x360 with 3 Axes>"
      ]
     },
     "metadata": {
      "needs_background": "light"
     },
     "output_type": "display_data"
    }
   ],
   "source": [
    "fig, (ax1, ax2, ax3) = plt.subplots(1, 3, sharey=True, figsize=(15,5))\n",
    "\n",
    "ax1.set_title('Schemaless')\n",
    "ax2.set_title('Schema w/out boost')\n",
    "ax3.set_title('Schema w/ boost')\n",
    "fig.suptitle('Toy Story Franchise Query Evaluation')\n",
    "\n",
    "schemaless_curve.plot(ax=ax1)\n",
    "standard_curve.plot(ax=ax2)\n",
    "enhanced_curve.plot(ax=ax3)\n",
    "\n",
    "plt.show()"
   ]
  },
  {
   "cell_type": "code",
   "execution_count": 54,
   "id": "8e68d171",
   "metadata": {
    "scrolled": false
   },
   "outputs": [
    {
     "data": {
      "image/png": "[encoded data removed]",
      "text/plain": [
       "<Figure size 432x288 with 1 Axes>"
      ]
     },
     "metadata": {
      "needs_background": "light"
     },
     "output_type": "display_data"
    },
    {
     "data": {
      "image/png": "[encoded data removed]",
      "text/plain": [
       "<Figure size 432x288 with 1 Axes>"
      ]
     },
     "metadata": {
      "needs_background": "light"
     },
     "output_type": "display_data"
    },
    {
     "data": {
      "image/png": "[encoded data removed]",
      "text/plain": [
       "<Figure size 432x288 with 1 Axes>"
      ]
     },
     "metadata": {
      "needs_background": "light"
     },
     "output_type": "display_data"
    }
   ],
   "source": [
    "schemaless_curve.plot()\n",
    "plt.savefig('plots/exp2_1.png')\n",
    "standard_curve.plot()\n",
    "plt.savefig('plots/exp2_2.png')\n",
    "enhanced_curve.plot()\n",
    "plt.savefig('plots/exp2_3.png')"
   ]
  },
  {
   "cell_type": "code",
   "execution_count": null,
   "id": "3e5ff020",
   "metadata": {},
   "outputs": [],
   "source": []
  },
  {
   "cell_type": "markdown",
   "id": "8751393a",
   "metadata": {},
   "source": [
    "## OurExperiment - Star Wars"
   ]
  },
  {
   "cell_type": "code",
   "execution_count": 55,
   "id": "bfe4c23d",
   "metadata": {},
   "outputs": [],
   "source": [
    "# schema-less\n",
    "relevant = list(map(lambda el: el.strip(), open('star_wars_qrels.txt').readlines()))\n",
    "\n",
    "standard_params = {\n",
    "    'q': 'title:(star wars) original_title:(star wars) description:(Luke jedi force galaxy) plot:(Luke jedi force galaxy) ',\n",
    "    'wt': 'json',\n",
    "    'defType': 'edismax'\n",
    "}\n",
    "\n",
    "schemaless_results = get_results(params=standard_params)"
   ]
  },
  {
   "cell_type": "code",
   "execution_count": 56,
   "id": "e3d1a1ae",
   "metadata": {},
   "outputs": [],
   "source": [
    "standard_results = get_results(params=standard_params)\n",
    "\n",
    "enhanced_params = {\n",
    "    'q': 'title:(star wars) original_title:(star wars) description:(Luke jedi force galaxy) plot:(Luke jedi force galaxy) ',\n",
    "    'wt': 'json',\n",
    "    'qf': 'original_title description^2 plot^3',\n",
    "    'defType': 'edismax'\n",
    "}\n",
    "\n",
    "enhanced_results = get_results(params=enhanced_params)"
   ]
  },
  {
   "cell_type": "code",
   "execution_count": 57,
   "id": "d8db36a8",
   "metadata": {},
   "outputs": [
    {
     "name": "stdout",
     "output_type": "stream",
     "text": [
      "tt1185834: 2008 Star Wars: The Clone Wars\n",
      "tt0121766: 2005 Star Wars: Episode III - Revenge of the Sith\n",
      "tt0120915: 1999 Star Wars: Episode I - The Phantom Menace\n",
      "tt2527338: 2019 Star Wars: Episode IX - The Rise of Skywalker\n",
      "tt0121765: 2002 Star Wars: Episode II - Attack of the Clones\n",
      "tt2275656: 2014 Star Wars: Threads of Destiny\n",
      "tt2488496: 2015 Star Wars: Episode VII - The Force Awakens\n",
      "tt2527336: 2017 Star Wars: Episode VIII - The Last Jedi\n",
      "tt3778644: 2018 Solo: A Star Wars Story\n",
      "tt7640228: 2017 Inter Star Wars 2. The Last Jehi\n"
     ]
    }
   ],
   "source": [
    "print_titles(standard_results)"
   ]
  },
  {
   "cell_type": "code",
   "execution_count": 58,
   "id": "8d0bc093",
   "metadata": {},
   "outputs": [
    {
     "name": "stdout",
     "output_type": "stream",
     "text": [
      "tt1185834: 2008 Star Wars: The Clone Wars\n",
      "tt0121766: 2005 Star Wars: Episode III - Revenge of the Sith\n",
      "tt0120915: 1999 Star Wars: Episode I - The Phantom Menace\n",
      "tt2527338: 2019 Star Wars: Episode IX - The Rise of Skywalker\n",
      "tt0121765: 2002 Star Wars: Episode II - Attack of the Clones\n",
      "tt2275656: 2014 Star Wars: Threads of Destiny\n",
      "tt2488496: 2015 Star Wars: Episode VII - The Force Awakens\n",
      "tt2527336: 2017 Star Wars: Episode VIII - The Last Jedi\n",
      "tt3778644: 2018 Solo: A Star Wars Story\n",
      "tt7640228: 2017 Inter Star Wars 2. The Last Jehi\n"
     ]
    }
   ],
   "source": [
    "print_titles(enhanced_results)"
   ]
  },
  {
   "cell_type": "code",
   "execution_count": 59,
   "id": "5295e431",
   "metadata": {},
   "outputs": [],
   "source": [
    "schemaless_table = metrics_export_table(results=schemaless_results, relevant=relevant)\n",
    "standard_table = metrics_export_table(results=standard_results, relevant=relevant)\n",
    "enhanced_table = metrics_export_table(results=enhanced_results, relevant=relevant)\n",
    "\n",
    "schemaless_curve = curve(results=schemaless_results, relevant=relevant)\n",
    "standard_curve = curve(results=standard_results, relevant=relevant)\n",
    "enhanced_curve = curve(results=enhanced_results, relevant=relevant)"
   ]
  },
  {
   "cell_type": "code",
   "execution_count": 60,
   "id": "d760e7af",
   "metadata": {},
   "outputs": [
    {
     "name": "stdout",
     "output_type": "stream",
     "text": [
      "                        0      1\n",
      "0                  Metric  Value\n",
      "1       Average Precision    1.0\n",
      "2  Precision at 10 (P@10)    1.0\n",
      "                        0      1\n",
      "0                  Metric  Value\n",
      "1       Average Precision    1.0\n",
      "2  Precision at 10 (P@10)    1.0\n",
      "                        0      1\n",
      "0                  Metric  Value\n",
      "1       Average Precision    1.0\n",
      "2  Precision at 10 (P@10)    1.0\n"
     ]
    }
   ],
   "source": [
    "print(schemaless_table)\n",
    "print(standard_table)\n",
    "print(enhanced_table)"
   ]
  },
  {
   "cell_type": "code",
   "execution_count": 61,
   "id": "11c74878",
   "metadata": {
    "scrolled": false
   },
   "outputs": [
    {
     "data": {
      "image/png": "[encoded data removed]",
      "text/plain": [
       "<Figure size 1080x360 with 3 Axes>"
      ]
     },
     "metadata": {
      "needs_background": "light"
     },
     "output_type": "display_data"
    }
   ],
   "source": [
    "fig, (ax1, ax2, ax3) = plt.subplots(1, 3, sharey=True, figsize=(15,5))\n",
    "\n",
    "ax1.set_title('Schemaless')\n",
    "ax2.set_title('Schema w/out boost')\n",
    "ax3.set_title('Schema w/ boost')\n",
    "fig.suptitle('Star Wars Query Evaluation')\n",
    "\n",
    "schemaless_curve.plot(ax=ax1)\n",
    "standard_curve.plot(ax=ax2)\n",
    "enhanced_curve.plot(ax=ax3)\n",
    "\n",
    "plt.show()"
   ]
  },
  {
   "cell_type": "code",
   "execution_count": 62,
   "id": "8e68d171",
   "metadata": {
    "scrolled": false
   },
   "outputs": [
    {
     "data": {
      "image/png": "[encoded data removed]",
      "text/plain": [
       "<Figure size 432x288 with 1 Axes>"
      ]
     },
     "metadata": {
      "needs_background": "light"
     },
     "output_type": "display_data"
    },
    {
     "data": {
      "image/png": "[encoded data removed]",
      "text/plain": [
       "<Figure size 432x288 with 1 Axes>"
      ]
     },
     "metadata": {
      "needs_background": "light"
     },
     "output_type": "display_data"
    },
    {
     "data": {
      "image/png": "[encoded data removed]",
      "text/plain": [
       "<Figure size 432x288 with 1 Axes>"
      ]
     },
     "metadata": {
      "needs_background": "light"
     },
     "output_type": "display_data"
    }
   ],
   "source": [
    "schemaless_curve.plot()\n",
    "plt.savefig('plots/ourexp_1.png')\n",
    "standard_curve.plot()\n",
    "plt.savefig('plots/ourexp_2.png')\n",
    "enhanced_curve.plot()\n",
    "plt.savefig('plots/ourexp_3.png')"
   ]
  },
  {
   "cell_type": "code",
   "execution_count": null,
   "id": "3e5ff020",
   "metadata": {},
   "outputs": [],
   "source": []
  }
 ],
 "metadata": {
  "interpreter": {
   "hash": "31f2aee4e71d21fbe5cf8b01ff0e069b9275f58929596ceb00d14d90e3e16cd6"
  },
  "kernelspec": {
   "display_name": "Python 3.8.10 64-bit",
   "name": "python3"
  },
  "language_info": {
   "codemirror_mode": {
    "name": "ipython",
    "version": 3
   },
   "file_extension": ".py",
   "mimetype": "text/x-python",
   "name": "python",
   "nbconvert_exporter": "python",
   "pygments_lexer": "ipython3",
   "version": "3.8.10"
  }
 },
 "nbformat": 4,
 "nbformat_minor": 5
}
